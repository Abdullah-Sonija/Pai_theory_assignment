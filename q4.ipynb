{
 "cells": [
  {
   "cell_type": "code",
   "execution_count": 10,
   "id": "aaf55d5a",
   "metadata": {},
   "outputs": [],
   "source": [
    "class Image:\n",
    "    def __init__(self,pixlel):\n",
    "        self.pixels=pixlel\n",
    "\n",
    "\n",
    "    def applyTransformation(self,transformationFunction):\n",
    "        newPixels=transformationFunction(self.getCopy())\n",
    "        return Image(newPixels)\n",
    "    \n",
    "    def getCopy(self):\n",
    "        return [row[:] for row in self.pixels]\n",
    "    \n",
    "    "
   ]
  },
  {
   "cell_type": "code",
   "execution_count": 11,
   "id": "be04a3ef",
   "metadata": {},
   "outputs": [],
   "source": [
    "def flipHorizontal(pixelData):\n",
    "    return [row[::-1] for row in pixelData]\n",
    "\n",
    "def adjustBrightness(pixelData,brightnessValue):\n",
    "    return  [[pixel+brightnessValue for pixel in row] for row in pixelData]\n",
    "\n",
    "def rotateNinetyDegree(pixelData):\n",
    "    return  [list(row) for row in zip(*pixelData[::-1])]\n"
   ]
  },
  {
   "cell_type": "code",
   "execution_count": 12,
   "id": "06a0c610",
   "metadata": {},
   "outputs": [],
   "source": [
    "class AugmentationPipeline:\n",
    "    def __init__(self):\n",
    "        self.steps=[]\n",
    "\n",
    "    def addSteps(self,transformFnc):\n",
    "        self.steps.append(transformFnc)\n",
    "\n",
    "    def processImage(self, originalImage):\n",
    "        augmentatedImage = []\n",
    "        for fn in self.steps:\n",
    "            transformed = originalImage.applyTransformation(fn)\n",
    "            augmentatedImage.append(transformed)\n",
    "        return augmentatedImage\n",
    "\n",
    "    "
   ]
  },
  {
   "cell_type": "code",
   "execution_count": 13,
   "id": "a0729dea",
   "metadata": {},
   "outputs": [
    {
     "name": "stdout",
     "output_type": "stream",
     "text": [
      "Transformed Tmage 1: \n",
      "[30, 20, 10]\n",
      "[60, 50, 40]\n",
      "Transformed Tmage 2: \n",
      "[20, 30, 40]\n",
      "[50, 60, 70]\n",
      "Transformed Tmage 3: \n",
      "[40, 10]\n",
      "[50, 20]\n",
      "[60, 30]\n"
     ]
    }
   ],
   "source": [
    "originalPixels=[\n",
    "    [10,20,30],\n",
    "    [40,50,60]\n",
    "]\n",
    "\n",
    "img=Image(originalPixels)\n",
    "pipeline=AugmentationPipeline()\n",
    "pipeline.addSteps(flipHorizontal)\n",
    "pipeline.addSteps(lambda data: adjustBrightness(data,10))\n",
    "pipeline.addSteps(rotateNinetyDegree)\n",
    "\n",
    "result=pipeline.processImage(img)\n",
    "\n",
    "for i,result in enumerate(result,start=1):\n",
    "    print(f\"Transformed Tmage {i}: \")\n",
    "    for row in result.pixels:\n",
    "        print(row)"
   ]
  }
 ],
 "metadata": {
  "kernelspec": {
   "display_name": "Python 3",
   "language": "python",
   "name": "python3"
  },
  "language_info": {
   "codemirror_mode": {
    "name": "ipython",
    "version": 3
   },
   "file_extension": ".py",
   "mimetype": "text/x-python",
   "name": "python",
   "nbconvert_exporter": "python",
   "pygments_lexer": "ipython3",
   "version": "3.13.9"
  }
 },
 "nbformat": 4,
 "nbformat_minor": 5
}
