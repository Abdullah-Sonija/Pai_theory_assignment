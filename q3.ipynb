{
 "cells": [
  {
   "cell_type": "code",
   "execution_count": 35,
   "id": "7d25bfe0",
   "metadata": {},
   "outputs": [],
   "source": [
    "class Package:\n",
    "    def __init__(self,packageId,weight):\n",
    "        self.packageId=packageId\n",
    "        self.weightInKg=weight\n",
    "        "
   ]
  },
  {
   "cell_type": "code",
   "execution_count": 36,
   "id": "018d9f80",
   "metadata": {},
   "outputs": [],
   "source": [
    "class Drone:\n",
    "    def __init__(self,id,maxLoad):\n",
    "        self.droneId=id\n",
    "        self.maxLoadInKg=maxLoad\n",
    "        self.__status=\"idle\"\n",
    "        self.package=None\n",
    "        self.timer = 0\n",
    "    \n",
    "    def setStatus(self,newStatus):\n",
    "        s=newStatus.lower()\n",
    "        if s in [\"idle\",\"delivering\",\"charging\"]:\n",
    "            self.__status=s\n",
    "        else:\n",
    "            print(\"invalid status input\")\n",
    "\n",
    "    def getStatus(self):\n",
    "        return self.__status\n",
    "    \n",
    "    def assignPackage(self,packageObj):\n",
    "        if self.getStatus()!=\"idle\":\n",
    "            print(f\"Drone {self.droneId} not idle , can not assign the package {packageObj.packageId}\")\n",
    "            return False\n",
    "        if packageObj.weightInKg>self.maxLoadInKg:\n",
    "            print(f\"Package too heavy for Drone {self.droneId}\")\n",
    "            return False\n",
    "        self.package=packageObj\n",
    "        self.setStatus(\"delivering\")\n",
    "        self.timer=2\n",
    "        print(f\"Drone {self.droneId} assigned to package {packageObj.packageId}\")\n",
    "        return True\n",
    "    \n",
    "    def update(self):\n",
    "        if self.getStatus()==\"delivering\":\n",
    "            self.timer-=1\n",
    "            if self.timer==0:\n",
    "                self.setStatus(\"charging\")\n",
    "                self.package=None\n",
    "                self.timer=1\n",
    "        elif self.getStatus()==\"charging\":\n",
    "            self.timer-=1\n",
    "            if self.timer==0:\n",
    "                self.setStatus(\"idle\")"
   ]
  },
  {
   "cell_type": "code",
   "execution_count": 37,
   "id": "e4e5836f",
   "metadata": {},
   "outputs": [],
   "source": [
    "class FleetManager:\n",
    "    def __init__(self):\n",
    "        self.drones={}\n",
    "        self.pendingPackages=[]\n",
    "\n",
    "    def addDrone(self,droneObj):\n",
    "        self.drones[droneObj.droneId]=droneObj\n",
    "\n",
    "    def addPackage(self,packageObj):\n",
    "        self.pendingPackages.append(packageObj)\n",
    "\n",
    "    def dispatchJobs(self):\n",
    "        for drone in self.drones.values():\n",
    "            if drone.getStatus()==\"idle\" and self.pendingPackages:\n",
    "                pkg=self.pendingPackages.pop(0)\n",
    "                success=drone.assignPackage(pkg)\n",
    "                if not success:\n",
    "                    self.pendingPackages.insert(0,pkg)\n",
    "\n",
    "    def simulationTick(self):\n",
    "        print(\"-Simulation Ticks-\")\n",
    "        for drone in self.drones.values():\n",
    "            drone.update()\n",
    "            print(f\"Drone {drone.droneId} -> status: {drone.getStatus()}\")\n",
    "        "
   ]
  },
  {
   "cell_type": "code",
   "execution_count": 38,
   "id": "69c8322a",
   "metadata": {},
   "outputs": [
    {
     "name": "stdout",
     "output_type": "stream",
     "text": [
      "Drone D1 assigned to package P1\n",
      "Package too heavy for Drone D2\n",
      "-Simulation Ticks-\n",
      "Drone D1 -> status: delivering\n",
      "Drone D2 -> status: idle\n",
      "-Simulation Ticks-\n",
      "Drone D1 -> status: charging\n",
      "Drone D2 -> status: idle\n",
      "-Simulation Ticks-\n",
      "Drone D1 -> status: idle\n",
      "Drone D2 -> status: idle\n",
      "-Simulation Ticks-\n",
      "Drone D1 -> status: idle\n",
      "Drone D2 -> status: idle\n"
     ]
    }
   ],
   "source": [
    "manager = FleetManager()\n",
    "\n",
    "d1 = Drone(\"D1\", 10)\n",
    "d2 = Drone(\"D2\", 5)\n",
    "manager.addDrone(d1)\n",
    "manager.addDrone(d2)\n",
    "\n",
    "p1 = Package(\"P1\", 4)\n",
    "p2 = Package(\"P2\", 6)\n",
    "p3 = Package(\"P3\", 8)\n",
    "manager.addPackage(p1)\n",
    "manager.addPackage(p2)\n",
    "manager.addPackage(p3)\n",
    "\n",
    "manager.dispatchJobs()\n",
    "manager.simulationTick()\n",
    "manager.simulationTick()\n",
    "manager.simulationTick()\n",
    "manager.simulationTick()"
   ]
  }
 ],
 "metadata": {
  "kernelspec": {
   "display_name": "Python 3",
   "language": "python",
   "name": "python3"
  },
  "language_info": {
   "codemirror_mode": {
    "name": "ipython",
    "version": 3
   },
   "file_extension": ".py",
   "mimetype": "text/x-python",
   "name": "python",
   "nbconvert_exporter": "python",
   "pygments_lexer": "ipython3",
   "version": "3.13.9"
  }
 },
 "nbformat": 4,
 "nbformat_minor": 5
}
