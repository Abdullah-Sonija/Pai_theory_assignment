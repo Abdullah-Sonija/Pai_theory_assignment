{
 "cells": [
  {
   "cell_type": "code",
   "execution_count": 7,
   "id": "56440aac",
   "metadata": {},
   "outputs": [],
   "source": [
    "postsList = [\n",
    "    {'id': 1, 'text': \"I LOVE the new #GutPhone! Battery life is amazing.\"},\n",
    "    {'id': 2, 'text': \"My #GutPhone is a total disaster. The screen is already broken!\"},\n",
    "    {'id': 3, 'text': \"Worst customer service ever from @GutPhoneSupport. Avoid!\"},\n",
    "    {'id': 4, 'text': \"The @GutPhoneSupport team was helpful and resolved my issue. Great service!\"}\n",
    "]\n",
    "\n",
    "PUNCTUATION_CHARS = ['.', ',', '!', '?', ':', ';', \"'\", '\"']\n",
    "STOPWORDS_SET = {'i', 'me', 'my', 'an', 'the', 'is', 'am', 'was', 'to', 'of', 'by', 'for', 'and', 'with', 'this', 'that'}\n",
    "\n",
    "POSITIVE_WORDS = {'love', 'amazing', 'great', 'helpful', 'resolved'}\n",
    "NEGATIVE_WORDS = {'disaster', 'broken', 'bad', 'worst', 'avoid'}\n"
   ]
  },
  {
   "cell_type": "code",
   "execution_count": 8,
   "id": "3628508e",
   "metadata": {},
   "outputs": [],
   "source": [
    "def preprocessText(text, punctuationList, stopwordsSet):\n",
    "    text = text.lower()\n",
    "    for ch in punctuationList:\n",
    "        text = text.replace(ch, \"\")\n",
    "    words = text.split()\n",
    "    return [word for word in words if word not in stopwordsSet]"
   ]
  },
  {
   "cell_type": "code",
   "execution_count": 9,
   "id": "eb36b1c2",
   "metadata": {},
   "outputs": [],
   "source": [
    "def analyzePosts(postsList, punctuation, stopwords, positive, negative):\n",
    "    def scorePost(post):\n",
    "        processed = preprocessText(post[\"text\"], punctuation, stopwords)\n",
    "        score = 0\n",
    "        for word in processed:\n",
    "            if word in positive:    score += 1\n",
    "            elif word in negative:  score -= 1\n",
    "        return {\n",
    "            \"id\": post[\"id\"],\n",
    "            \"text\": post[\"text\"],\n",
    "            \"processedText\": processed,\n",
    "            \"score\": score\n",
    "        }\n",
    "    return list(map(lambda p: scorePost(p), postsList))"
   ]
  },
  {
   "cell_type": "code",
   "execution_count": 10,
   "id": "85b47c29",
   "metadata": {},
   "outputs": [],
   "source": [
    "def getFlaggedPosts(scoredPosts, sentimentThreshold=-1):\n",
    "    return [post for post in scoredPosts if post[\"score\"] <= sentimentThreshold]"
   ]
  },
  {
   "cell_type": "code",
   "execution_count": 11,
   "id": "ee5521a5",
   "metadata": {},
   "outputs": [],
   "source": [
    "def findNegativeTopics(flaggedPosts):\n",
    "    topics = {}\n",
    "    for post in flaggedPosts:\n",
    "        for word in post[\"processedText\"]:\n",
    "            if word.startswith(\"#\") or word.startswith(\"@\"):\n",
    "                topics[word] = topics.get(word, 0) + 1\n",
    "    return topics"
   ]
  },
  {
   "cell_type": "code",
   "execution_count": 12,
   "id": "267d8cf8",
   "metadata": {},
   "outputs": [
    {
     "name": "stdout",
     "output_type": "stream",
     "text": [
      "Analyzed Posts:\n",
      " [{'id': 1, 'text': 'I LOVE the new #GutPhone! Battery life is amazing.', 'processedText': ['love', 'new', '#gutphone', 'battery', 'life', 'amazing'], 'score': 2}, {'id': 2, 'text': 'My #GutPhone is a total disaster. The screen is already broken!', 'processedText': ['#gutphone', 'a', 'total', 'disaster', 'screen', 'already', 'broken'], 'score': -2}, {'id': 3, 'text': 'Worst customer service ever from @GutPhoneSupport. Avoid!', 'processedText': ['worst', 'customer', 'service', 'ever', 'from', '@gutphonesupport', 'avoid'], 'score': -2}, {'id': 4, 'text': 'The @GutPhoneSupport team was helpful and resolved my issue. Great service!', 'processedText': ['@gutphonesupport', 'team', 'helpful', 'resolved', 'issue', 'great', 'service'], 'score': 3}]\n",
      "\n",
      "Flagged Negative Posts:\n",
      " [{'id': 2, 'text': 'My #GutPhone is a total disaster. The screen is already broken!', 'processedText': ['#gutphone', 'a', 'total', 'disaster', 'screen', 'already', 'broken'], 'score': -2}, {'id': 3, 'text': 'Worst customer service ever from @GutPhoneSupport. Avoid!', 'processedText': ['worst', 'customer', 'service', 'ever', 'from', '@gutphonesupport', 'avoid'], 'score': -2}]\n",
      "\n",
      "Trending Negative Topics:\n",
      " {'#gutphone': 1, '@gutphonesupport': 1}\n"
     ]
    }
   ],
   "source": [
    "scoredPosts = analyzePosts(postsList, PUNCTUATION_CHARS, STOPWORDS_SET, POSITIVE_WORDS, NEGATIVE_WORDS)\n",
    "flaggedPosts = getFlaggedPosts(scoredPosts, sentimentThreshold=-1)\n",
    "negativeTopics = findNegativeTopics(flaggedPosts)\n",
    "\n",
    "print(\"Analyzed Posts:\\n\", scoredPosts)\n",
    "print(\"\\nFlagged Negative Posts:\\n\", flaggedPosts)\n",
    "print(\"\\nTrending Negative Topics:\\n\", negativeTopics)"
   ]
  }
 ],
 "metadata": {
  "kernelspec": {
   "display_name": "Python 3",
   "language": "python",
   "name": "python3"
  },
  "language_info": {
   "codemirror_mode": {
    "name": "ipython",
    "version": 3
   },
   "file_extension": ".py",
   "mimetype": "text/x-python",
   "name": "python",
   "nbconvert_exporter": "python",
   "pygments_lexer": "ipython3",
   "version": "3.13.9"
  }
 },
 "nbformat": 4,
 "nbformat_minor": 5
}
