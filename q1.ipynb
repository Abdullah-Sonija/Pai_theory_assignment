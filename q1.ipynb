{
 "cells": [
  {
   "cell_type": "code",
   "execution_count": 1,
   "id": "7e11898f",
   "metadata": {},
   "outputs": [],
   "source": [
    "transactionsList = [\n",
    "    {'orderId': 1001, 'customerId': 'cust_Ahmed', 'productId': 'prod_15'},\n",
    "    {'orderId': 1001, 'customerId': 'cust_Ahmed', 'productId': 'prod_12'},\n",
    "    {'orderId': 1002, 'customerId': 'cust_Bisma', 'productId': 'prod_10'},\n",
    "    {'orderId': 1002, 'customerId': 'cust_Bisma', 'productId': 'prod_12'},\n",
    "    {'orderId': 1003, 'customerId': 'cust_Faisal', 'productId': 'prod_10'},\n",
    "    {'orderId': 1004, 'customerId': 'cust_Faisal', 'productId': 'prod_15'},\n",
    "    {'orderId': 1034, 'customerId': 'cust_Bisma', 'productId': 'prod_15'}\n",
    "]\n",
    "\n",
    "productCatalog = {\n",
    "    'prod_10': 'Wireless Mouse',\n",
    "    'prod_12': 'Keyboard',\n",
    "    'prod_15': 'USB-C Hub'\n",
    "}\n"
   ]
  },
  {
   "cell_type": "code",
   "execution_count": 2,
   "id": "0a8cdb2f",
   "metadata": {},
   "outputs": [],
   "source": [
    "def processTransactions(transactionsList):\n",
    "    dic={}\n",
    "    for i in transactionsList:\n",
    "        dic.setdefault(i[\"customerId\"], set()).add(i[\"productId\"])\n",
    "    return dic"
   ]
  },
  {
   "cell_type": "code",
   "execution_count": 3,
   "id": "39c035d8",
   "metadata": {},
   "outputs": [],
   "source": [
    "def findFrequentPairs (customerData):\n",
    "    pairCount={}\n",
    "    for products in customerData.values():\n",
    "        productList=list(products)\n",
    "        for i in range(len(productList)):\n",
    "            for j in range(i+1,len(productList)):\n",
    "                p1=productList[i]\n",
    "                p2=productList[j]\n",
    "                pair=tuple(sorted((p1,p2)))\n",
    "                pairCount[pair]=pairCount.get(pair,0)+1\n",
    "    return pairCount\n"
   ]
  },
  {
   "cell_type": "code",
   "execution_count": 4,
   "id": "93552613",
   "metadata": {},
   "outputs": [],
   "source": [
    "def getRecommendations(targetProductId,frequentPairs):\n",
    "    related={}\n",
    "    for(p1,p2), count in frequentPairs.items():\n",
    "        if targetProductId in (p1,p2):\n",
    "            other=p2 if p1 == targetProductId else p1\n",
    "            related[other]=count\n",
    "    return sorted(related.items(),key=lambda x: x[1],reverse=True)"
   ]
  },
  {
   "cell_type": "code",
   "execution_count": 5,
   "id": "6b258b9a",
   "metadata": {},
   "outputs": [],
   "source": [
    "def generateReport(targetProductId, recommendations, catalog):\n",
    "    print(f\"\\nRecommendations for: {catalog[targetProductId]}\")\n",
    "    productIds,counts= zip(*recommendations)if recommendations else([],[])\n",
    "    for idx,(pid,count) in enumerate(zip(productIds,counts),start=1):\n",
    "        print(f\"{idx}. {catalog[pid]}, (bought togetter {count} times)\")\n",
    "    "
   ]
  },
  {
   "cell_type": "code",
   "execution_count": 6,
   "id": "02b563a2",
   "metadata": {},
   "outputs": [],
   "source": [
    "def main():\n",
    "    customerData=processTransactions(transactionsList)\n",
    "    frequentPairs=findFrequentPairs (customerData)\n",
    "    targetProductId=input(\"Enter the product ID for recommendation: \")\n",
    "    recommendations=getRecommendations(targetProductId,frequentPairs)\n",
    "    generateReport(targetProductId, recommendations, productCatalog)"
   ]
  },
  {
   "cell_type": "code",
   "execution_count": 7,
   "id": "48992382",
   "metadata": {},
   "outputs": [
    {
     "name": "stdout",
     "output_type": "stream",
     "text": [
      "\n",
      "Recommendations for: USB-C Hub\n",
      "1. Keyboard, (bought togetter 2 times)\n",
      "2. Wireless Mouse, (bought togetter 2 times)\n"
     ]
    }
   ],
   "source": [
    "if __name__==\"__main__\":\n",
    "    main()"
   ]
  }
 ],
 "metadata": {
  "kernelspec": {
   "display_name": "Python 3",
   "language": "python",
   "name": "python3"
  },
  "language_info": {
   "codemirror_mode": {
    "name": "ipython",
    "version": 3
   },
   "file_extension": ".py",
   "mimetype": "text/x-python",
   "name": "python",
   "nbconvert_exporter": "python",
   "pygments_lexer": "ipython3",
   "version": "3.13.9"
  }
 },
 "nbformat": 4,
 "nbformat_minor": 5
}
